{
 "cells": [
  {
   "cell_type": "markdown",
   "metadata": {},
   "source": [
    "# Introduction to Python\n",
    "---\n",
    "- from [Scientific Python Training Series](https://github.com/burkesquires/scientific_python_training)\n",
    "- from [Why Python keeps growing, explained](https://github.blog/2023-03-02-why-python-keeps-growing-explained/). \n",
    "---"
   ]
  },
  {
   "cell_type": "markdown",
   "metadata": {},
   "source": [
    "## So, What is Python"
   ]
  },
  {
   "cell_type": "markdown",
   "metadata": {},
   "source": [
    "`Python` is a high-level, interpreted programming language with a simple syntax, which makes it easily readable and extremely user- and beginner-friendly. Originally built to satisfy [Guido Van Rossum’s desire for a programming language](https://docs.python.org/3/faq/general.html#why-was-python-created-in-the-first-place) that was simple to use and beautiful to look at, Python was first released to the world in 1991."
   ]
  },
  {
   "cell_type": "markdown",
   "metadata": {
    "slideshow": {
     "slide_type": "slide"
    }
   },
   "source": [
    "## Why Python?"
   ]
  },
  {
   "cell_type": "markdown",
   "metadata": {
    "slideshow": {
     "slide_type": "slide"
    }
   },
   "source": [
    "<img src=\"http://imgs.xkcd.com/comics/python.png\">"
   ]
  },
  {
   "cell_type": "markdown",
   "metadata": {
    "slideshow": {
     "slide_type": "skip"
    }
   },
   "source": [
    "---"
   ]
  },
  {
   "cell_type": "code",
   "execution_count": 7,
   "metadata": {},
   "outputs": [
    {
     "name": "stdout",
     "output_type": "stream",
     "text": [
      "\u001b[93m\u001b[44mMaking HTTP connection to proxy.server:3128\u001b[39;49m\u001b(B\u001b[m\u001b[40m\u001b[H\u001b[2J\u001b[37m\u001b[40m\u001b[J\u001b(B\u001b[m\u001b[39;49m\u001b[37m\u001b[40m\u001b[39;49m\u001b[37m\u001b[40m\u001b[J\u001b[39;49m\u001b(B\u001b[m\u001b[22d\u001b[93m\u001b[44mGetting https://xkcd.com/353/\u001b[K\u001b[39;49m\u001b(B\u001b[m\n",
      "\n",
      "\u001b[?1l\u001b>\u001b[?1049l\u001b[23;0;0t"
     ]
    }
   ],
   "source": [
    "import antigravity"
   ]
  },
  {
   "cell_type": "code",
   "execution_count": 8,
   "metadata": {
    "slideshow": {
     "slide_type": "slide"
    }
   },
   "outputs": [
    {
     "name": "stdout",
     "output_type": "stream",
     "text": [
      "The Zen of Python, by Tim Peters\n",
      "\n",
      "Beautiful is better than ugly.\n",
      "Explicit is better than implicit.\n",
      "Simple is better than complex.\n",
      "Complex is better than complicated.\n",
      "Flat is better than nested.\n",
      "Sparse is better than dense.\n",
      "Readability counts.\n",
      "Special cases aren't special enough to break the rules.\n",
      "Although practicality beats purity.\n",
      "Errors should never pass silently.\n",
      "Unless explicitly silenced.\n",
      "In the face of ambiguity, refuse the temptation to guess.\n",
      "There should be one-- and preferably only one --obvious way to do it.\n",
      "Although that way may not be obvious at first unless you're Dutch.\n",
      "Now is better than never.\n",
      "Although never is often better than *right* now.\n",
      "If the implementation is hard to explain, it's a bad idea.\n",
      "If the implementation is easy to explain, it may be a good idea.\n",
      "Namespaces are one honking great idea -- let's do more of those!\n"
     ]
    }
   ],
   "source": [
    "import this"
   ]
  },
  {
   "cell_type": "markdown",
   "metadata": {
    "slideshow": {
     "slide_type": "skip"
    }
   },
   "source": [
    "---\n",
    "파이썬 다운 코딩은 어떤 것일까?\n",
    "언어에는 그에 맞는 적절한 표현 방식이 있다. 외국인이 우리말을 할 때, 문법적으로는 틀리지 않았다고 해도 듣기에 영 어색한 경우가 있다. 반대로 한국인이 영어를 하면 영어를 고유어로 사용하는 사람들이 어색하게 여길 때가 많을 거다.\n",
    "파이썬의 선(The Zen of Python)은 파이썬이 추구하는 철학(?)을 시적(?)으로 표현한 것이다. Tim Peters란 프로그래머가 파이썬 디자인(설계?)에 관해 언급한 20개의 경구 중 19개를 문서화 한 것이란다(나머지 한 구절은 무엇인지 궁금하다). 파이썬 뿐만 아니라 프로그래밍 언어라면-일상에서도 마찬가지지만- 모두 적용되는 이야기가 아닐까 싶다. 일종의 Easter Egg로 파이썬 쉘에서 import this를 입력하면 볼 수 있다."
   ]
  },
  {
   "cell_type": "markdown",
   "metadata": {},
   "source": [
    "Beautiful is better than ugly. 아름다움이 추한 것보다 낫다.  \n",
    "Explicit is better than implicit. 명확함이 함축된 것보다 낫다.  \n",
    "Simple is better than complex. 단순함이 복잡한 것보다 낫다.  \n",
    "Complex is better than complicated. 복잡함이 난해한 것보다 낫다.  \n",
    "Flat is better than nested. 단조로움이 중접된 것보다 낫다.  \n",
    "Sparse is better than dense. 여유로움이 밀집된 것보다 낫다.  \n",
    "Readability counts. 가독성은 중요하다.  \n",
    "Special cases aren't special enough to break the rules. 규칙을 깨야할 정도로 특별한 경우란 없다. \n",
    "Although practicality beats purity. 비록 실용성이 이상을 능가한다 하더라도.  \n",
    "Errors should never pass silently. 오류는 결코 조용히 지나가지 않는다. \n",
    "Unless explicitly silenced. 알고도 침묵하지 않는 한.  \n",
    "In the face of ambiguity, refuse the temptation to guess. 모호함을 마주하고 추측하려는 유혹을 거절하라.\n",
    "There should be one-- and preferably only one --obvious way to do it. 문제를 해결할 하나의 - 바람직하고 유일한 - 명백한 방법이 있을 것이다.  \n",
    "Although that way may not be obvious at first unless you're Dutch. 비록 당신이 우둔해서 처음에는 명백해 보이지 않을 수도 있겠지만.  \n",
    "Now is better than never. 지금 하는 것이 전혀 안하는 것보다 낫다.\n",
    "Although never is often better than *right* now. 비록 하지않는 것이 지금 하는 것보다 나을 때도 있지만.  \n",
    "If the implementation is hard to explain, it's a bad idea. 설명하기 어려운 구현이라면 좋은 아이디어가 아니다.\n",
    "If the implementation is easy to explain, it may be a good idea. 쉽게 설명할 수 있는 구현이라면 좋은 아이디어일 수 있다.\n",
    "Namespaces are one honking great idea -- let's do more of those! 네임스페이스는 정말 대단한 아이디어다. -- 자주 사용하자!  "
   ]
  },
  {
   "cell_type": "markdown",
   "metadata": {},
   "source": [
    "## Python popularity"
   ]
  },
  {
   "cell_type": "markdown",
   "metadata": {},
   "source": [
    "- Stack Overflow’s developer survey results from 2023 had Python as the [3rd most popular language](https://survey.stackoverflow.co/2023/#most-popular-technologies-language) according to professional developers.\n",
    "- According to [TIOBE Index](https://www.tiobe.com/tiobe-index/), as of October 2023, Python overtook Java and C as the most popular language.\n",
    "- Learner rates have also skyrocketed, with Python tutorials being the most popular language searched for on Google, according to the [PYPL index (Popularity of Programming Language Index)](https://pypl.github.io/PYPL.html), overtaking Java in 2018."
   ]
  },
  {
   "cell_type": "markdown",
   "metadata": {
    "slideshow": {
     "slide_type": "slide"
    }
   },
   "source": [
    "## `Hello world` in Four Languages"
   ]
  },
  {
   "cell_type": "markdown",
   "metadata": {
    "slideshow": {
     "slide_type": "subslide"
    }
   },
   "source": [
    "The \"Hello World\" program in four different programming languages"
   ]
  },
  {
   "cell_type": "markdown",
   "metadata": {
    "slideshow": {
     "slide_type": "slide"
    }
   },
   "source": [
    "__C++__\n",
    "\n",
    "```C++\n",
    "#include <iostream>\n",
    "int main()\n",
    "{\n",
    "    std::count << \"Hello World” << std::endl;\n",
    "    return 0;\n",
    "}\n",
    "```"
   ]
  },
  {
   "cell_type": "markdown",
   "metadata": {
    "slideshow": {
     "slide_type": "slide"
    }
   },
   "source": [
    "__Java__\n",
    "\n",
    "```Java\n",
    "public class HelloWorld { \n",
    "    public static void main (String[] args) {\n",
    "        System.out.println(\"Hello World!\"); \n",
    "    }\n",
    "}\n",
    "```"
   ]
  },
  {
   "cell_type": "markdown",
   "metadata": {
    "slideshow": {
     "slide_type": "slide"
    }
   },
   "source": [
    "__Python__\n",
    "```python\n",
    "print(“Hello World!”)\n",
    "```\n",
    "\n",
    "__R__\n",
    "```R\n",
    "print(\"Hello World!\", quote = FALSE)\n",
    "```"
   ]
  },
  {
   "cell_type": "markdown",
   "metadata": {
    "slideshow": {
     "slide_type": "slide"
    }
   },
   "source": [
    "So, what is the take home message of the above demonstration?\n",
    "\n",
    "- For many common tasks, python is faster and easier than many languages\n",
    "- NOTE: I prefer to use the best tool for each job...that stated I find `python` is often that tool!\n",
    "- BUT I do NOT want to use a version of Word written in `python`! :-)\n"
   ]
  },
  {
   "cell_type": "markdown",
   "metadata": {
    "slideshow": {
     "slide_type": "slide"
    }
   },
   "source": [
    "## Why Learn Python?"
   ]
  },
  {
   "cell_type": "markdown",
   "metadata": {
    "slideshow": {
     "slide_type": "slide"
    }
   },
   "source": [
    "Similiar to other languages...\n",
    "\n",
    "**It's Free**\n",
    "Python is both free and open-source. The Python Software Foundation distributes pre-made binaries that are freely available for use on all major operating systems called `CPython`. You can get CPython's source-code, too."
   ]
  },
  {
   "cell_type": "markdown",
   "metadata": {
    "slideshow": {
     "slide_type": "slide"
    }
   },
   "source": [
    "**High-Level Language**\n",
    "Python looks more like a readable, human language than like a low-level language. This gives you the ability to program at a faster rate than a low-level language will allow you."
   ]
  },
  {
   "cell_type": "markdown",
   "metadata": {
    "slideshow": {
     "slide_type": "slide"
    }
   },
   "source": [
    "**Cross-platform**\n",
    "Python runs on all major operating systems like Microsoft Windows, Linux, and macOS X. A version called [`micropython`](https://micropython.org/) also can run on microcontrollers, small single-board computers like the arduino and Raspberry Pi."
   ]
  },
  {
   "cell_type": "markdown",
   "metadata": {
    "slideshow": {
     "slide_type": "slide"
    }
   },
   "source": [
    "**Easy installation**\n",
    "Python, and many of its most popular packages, especially for data science, are easily installable with the [Anaconda distribution](https://www.anaconda.com/download/)"
   ]
  },
  {
   "cell_type": "markdown",
   "metadata": {
    "slideshow": {
     "slide_type": "slide"
    }
   },
   "source": [
    "**It's Safe**\n",
    "Python doesn't have pointers like other C-based languages, making it much more reliable. Along with that, errors never pass silently unless they're explicitly silenced. This allows you to see and read why the program crashed and where to correct your error."
   ]
  },
  {
   "cell_type": "markdown",
   "metadata": {
    "slideshow": {
     "slide_type": "slide"
    }
   },
   "source": [
    "__Reproducibility__ The use of a programming language like python significantly enhances the reproducibility of data analysis"
   ]
  },
  {
   "cell_type": "markdown",
   "metadata": {
    "slideshow": {
     "slide_type": "slide"
    }
   },
   "source": [
    "How `Python` differs...\n",
    "\n",
    "**Easy Syntax**\n",
    "Python's syntax is easy to learn, so both non-programmers and programmers can start programming right away."
   ]
  },
  {
   "cell_type": "markdown",
   "metadata": {
    "slideshow": {
     "slide_type": "fragment"
    }
   },
   "source": [
    "**Readability**\n",
    "Python's syntax is very clear, so it is easy to understand program code. Python is often referred to as \"executable pseudo-code\" because its syntax mostly follows the conventions used by programmers to outline their ideas without the formal verbosity of code in most programming languages."
   ]
  },
  {
   "cell_type": "markdown",
   "metadata": {
    "slideshow": {
     "slide_type": "fragment"
    }
   },
   "source": [
    "**General Purpose Language**\n",
    "Python has data strucutres and functions that all modern high level langugaes have, like dictionaries for key - value pairs."
   ]
  },
  {
   "cell_type": "markdown",
   "metadata": {
    "slideshow": {
     "slide_type": "fragment"
    }
   },
   "source": [
    "**Batteries Included**\n",
    "Python is famous for being the \"batteries are included\" language. There are over 300 standard library modules which contain modules and classes for a wide variety of programming tasks."
   ]
  },
  {
   "cell_type": "markdown",
   "metadata": {
    "slideshow": {
     "slide_type": "slide"
    }
   },
   "source": [
    "**Object oriented programming**\n",
    "Object-oriented programming allows you to create data structures that can be re-used, which reduces the amount of repetitive work that you'll need to do."
   ]
  },
  {
   "cell_type": "markdown",
   "metadata": {
    "slideshow": {
     "slide_type": "slide"
    }
   },
   "source": [
    "**Extensible**\n",
    "In addition to the standard libraries there are extensive collections of freely available add-on modules, libraries, frameworks, and tool-kits. These generally conform to similar standards and conventions."
   ]
  },
  {
   "cell_type": "markdown",
   "metadata": {
    "slideshow": {
     "slide_type": "slide"
    }
   },
   "source": [
    "**Widely Supported**\n",
    "Python has an active support community with many web sites, mailing lists, and USENET \"netnews\" groups that attract a large number of knowledgeable and helpful contributes.\n",
    "\n",
    "\n",
    "Adapted from [wikiversity/python_concept](https://en.wikiversity.org/wiki/Python_Concepts/Why_learn_Python)"
   ]
  },
  {
   "cell_type": "markdown",
   "metadata": {},
   "source": [
    "**It’s academic.** Python has become the go-to language in academia with some students even encountering Python as early as elementary school. (Believe it or not, there are children’s picture books dedicated to Python.) While computer science students are often taught Python, its use extends beyond that discipline into other areas of STEM and academic research. For example, Python can be used to solve differential equations, perform statistical analyses, simulate and track particle diffusion, and more."
   ]
  },
  {
   "cell_type": "markdown",
   "metadata": {},
   "source": [
    "**It has high corporate demand.** Because of its wide scale applicability in development and data analysis work, learning and knowing Python is often considered a top-skill among job seekers. According to Statista, Python was the third most demanded language in 2022 by recruiters worldwide."
   ]
  },
  {
   "cell_type": "markdown",
   "metadata": {},
   "source": [
    "Adapted from [https://github.blog/2023-03-02-why-python-keeps-growing-explained/](https://github.blog/2023-03-02-why-python-keeps-growing-explained/)"
   ]
  },
  {
   "cell_type": "markdown",
   "metadata": {
    "slideshow": {
     "slide_type": "slide"
    }
   },
   "source": [
    "## Popular Python Package - \"Scientific Python Stack\""
   ]
  },
  {
   "cell_type": "markdown",
   "metadata": {
    "slideshow": {
     "slide_type": "slide"
    }
   },
   "source": [
    "<img src=\"images/scientific_python_stack_2017.png\">"
   ]
  },
  {
   "cell_type": "markdown",
   "metadata": {
    "slideshow": {
     "slide_type": "slide"
    }
   },
   "source": [
    "- [Python](https://www.python.org/), a general purpose programming language. It is interpreted and dynamically typed and is very suited for interactive work and quick prototyping, while being powerful enough to write large applications in.\n",
    "- [NumPy](http://www.numpy.org/), the fundamental package for numerical computation. It defines the numerical array and matrix types and basic operations on them.\n",
    "- [SciPy](https://www.scipy.org/scipylib/index.html), a collection of numerical algorithms and domain-specific toolboxes, including signal processing, optimization, statistics and much more.\n",
    "- [Matplotlib](http://matplotlib.org/), a mature and popular plotting package, that provides publication-quality 2D plotting as well as rudimentary 3D plotting"
   ]
  },
  {
   "cell_type": "markdown",
   "metadata": {
    "slideshow": {
     "slide_type": "slide"
    }
   },
   "source": [
    "__Data and computation__:\n",
    "\n",
    "- [pandas](http://pandas.pydata.org/), providing high-performance, easy to use data structures.\n",
    "- [SymPy](http://www.sympy.org/), for symbolic mathematics and computer algebra.\n",
    "- [scikit-image](http://scikit-image.org/) is a collection of algorithms for image processing.\n",
    "- [scikit-learn](http://scikit-learn.org/) is a collection of algorithms and tools for machine learning.\n",
    "- [h5py](http://www.h5py.org/) and [PyTables](http://www.pytables.org/) can both access data stored in the HDF5 format."
   ]
  },
  {
   "cell_type": "markdown",
   "metadata": {
    "slideshow": {
     "slide_type": "slide"
    }
   },
   "source": [
    "__Productivity and high-performance computing__:\n",
    "\n",
    "- [IPython](http://ipython.org/), a rich interactive interface, letting you quickly process data and test ideas.\n",
    "- [Jupyter](http://jupyter.org/) notebook provides IPython functionality and more in your web browser, allowing you to document your computation in an easily reproducible form.\n",
    "- [Cython](http://cython.org/) extends Python syntax so that you can conveniently build C extensions, either to speed up critical code, or to integrate with C/C++ libraries.\n",
    "- [Dramatiq](https://dramatiq.io), [Dask](https://dask.readthedocs.io/), [Joblib](https://joblib.readthedocs.io/) or [IPyParallel](https://ipyparallel.readthedocs.io/) for distributed processing with a focus on numeric data."
   ]
  },
  {
   "cell_type": "markdown",
   "metadata": {
    "slideshow": {
     "slide_type": "slide"
    }
   },
   "source": [
    "__Quality assurance__:\n",
    "\n",
    "- [nose](https://nose.readthedocs.org/en/latest/), a framework for testing Python code, being phased out in preference for [pytest](https://docs.pytest.org/).\n",
    "- [numpydoc](https://github.com/numpy/numpydoc), a standard and library for documenting Scientific Python libraries."
   ]
  },
  {
   "cell_type": "markdown",
   "metadata": {
    "slideshow": {
     "slide_type": "slide"
    }
   },
   "source": [
    "__Bioinformatics__\n",
    "- [biopython](https://www.biopython.org) - python bioinformatics / computational biology / molecular biolofy package\n",
    "- [bioconda](bioconda.org) - `conda` channel and repository of common `unix` bioinformaitcs software\n",
    "- __[scanpy](https://scanpy.readthedocs.io/en/stable/) - `Single-Cell Analysis in Python`__"
   ]
  },
  {
   "cell_type": "markdown",
   "metadata": {
    "slideshow": {
     "slide_type": "slide"
    }
   },
   "source": []
  },
  {
   "cell_type": "markdown",
   "metadata": {},
   "source": [
    "## What is Python commonly used for?"
   ]
  },
  {
   "cell_type": "markdown",
   "metadata": {},
   "source": [
    "Python can be used for just about anything, from web and software development to machine learning and artificial intelligence (AI). Let’s take a look at some of its most common use cases.\n",
    "\n",
    "### Using Python for web and software development\n",
    "Python is a popular language for web and software development because you can create complex, multi-protocol applications while maintaining concise, readable syntax. In fact, some of the most popular applications were built with Python. Plus, Python’s open source community provides developers with an extensive amount of reusable code, frameworks, and support. Case in point: Django is one of the most-used Python frameworks designed by experienced developers to help others accelerate their application build times and avoid issues that might balk their progress.\n",
    "\n",
    "### Using Python for task automation\n",
    "One of Python’s key benefits is its ability to automate manual, repetitive tasks. With Python, you can learn how to automate just about anything by using either built-in modules or pre-written code from its robust library. Or you can write your own custom scripts to perform specific actions. For example, you can easily automate emails with the “smtplib” module or copy files with the “shutil” module. Python also has a robust set of testing frameworks, which makes it an excellent language for test automation. Frameworks such as Pytest, Behave, and Robot allow developers to write simple yet effective tests to ensure the quality of their builds.\n",
    "\n",
    "### Using Python for machine learning and data science\n",
    "Here’s a fun fact: Python is the top preferred language for data science and research. Since its syntax is easily understandable and adaptable, people with little-to-no development experience can easily learn Python and use it to manipulate data for research, reporting, predictable or regression analyses, and more. Collecting and parsing data can be a time-consuming task for data scientists. Python is also one of the top languages for training machine learning (ML) models. Through specific algorithms, these models can analyze and identify patterns in data to make predictions or decisions based on that data. They also constantly evolve based on outputs of previous datasets to confront new variables. Data scientists and developers training ML models often utilize libraries, such as NumPy, Pandas, and Matplotlib, to automate functions like cleaning, data transformation, and visualization.\n",
    "\n",
    "### Using Python for financial analysis\n",
    "Similar to how Python can assist data scientists with the heavy lift of large data sets, Python is widely used in the financial industry to quickly perform complex computations. Stock markets generate huge amounts of data, and Python can be used to import data on stock prices and generate strategies through algorithms to identify trading opportunities. The language can also be used for portfolio optimization, risk management, financial modeling and visualization, cryptocurrency analysis, and even fraud detection.\n",
    "\n",
    "### Using Python for and artificial intelligence\n",
    "Python can also be found in some of the most complex, artificial intelligence (AI) technologies—and it’s actually one of the preferred languages for AI. Python’s concise and readable code allows developers to create consistent, reliable systems, and its vast library provides a number of frameworks like PyBrain, which offers developers powerful algorithms for machine learning tasks. Plus, Python’s visualization capabilities can help convert these large datasets for AI or ML into comprehensible graphs or reports. Interestingly enough, OpenAI, the artificial intelligence research lab, utilizes the Python framework, Pytorch, as their standard framework for deep learning, which trains its AI systems."
   ]
  },
  {
   "cell_type": "markdown",
   "metadata": {
    "slideshow": {
     "slide_type": "slide"
    }
   },
   "source": [
    "# What can you do with `python`"
   ]
  },
  {
   "cell_type": "markdown",
   "metadata": {
    "slideshow": {
     "slide_type": "subslide"
    }
   },
   "source": [
    "- https://automatetheboringstuff.com/\n",
    "- https://medium.freecodecamp.org/what-can-you-do-with-python-the-3-main-applications-518db9a68a78\n",
    "- https://www.python.org/about/apps/\n",
    "- https://intersog.com/blog/some-cool-things-you-can-do-with-python/\n",
    "- https://realpython.com/what-can-i-do-with-python/"
   ]
  },
  {
   "cell_type": "code",
   "execution_count": null,
   "metadata": {},
   "outputs": [],
   "source": []
  }
 ],
 "metadata": {
  "anaconda-cloud": {},
  "celltoolbar": "Slideshow",
  "gist_id": "cedf51e5d24af8694bfe",
  "kernelspec": {
   "display_name": "anaconda-2022.05-py39",
   "language": "python",
   "name": "conda-env-anaconda-2022.05-py39-py"
  },
  "language_info": {
   "codemirror_mode": {
    "name": "ipython",
    "version": 3
   },
   "file_extension": ".py",
   "mimetype": "text/x-python",
   "name": "python",
   "nbconvert_exporter": "python",
   "pygments_lexer": "ipython3",
   "version": "3.9.12"
  }
 },
 "nbformat": 4,
 "nbformat_minor": 4
}
